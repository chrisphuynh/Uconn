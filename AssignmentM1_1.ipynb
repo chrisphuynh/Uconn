{
  "nbformat": 4,
  "nbformat_minor": 0,
  "metadata": {
    "colab": {
      "name": "AssignmentM1-1.ipynb",
      "provenance": [],
      "collapsed_sections": []
    },
    "kernelspec": {
      "name": "python3",
      "display_name": "Python 3"
    }
  },
  "cells": [
    {
      "cell_type": "markdown",
      "metadata": {
        "id": "bpDaoQKcvGWI"
      },
      "source": [
        "# init\n",
        "\n",
        "Include any initialization and paste any function needed here..."
      ]
    },
    {
      "cell_type": "code",
      "metadata": {
        "id": "qsp8cb9ju1un"
      },
      "source": [
        "import numpy as np\n",
        "import matplotlib.pyplot as plt\n",
        "import math\n",
        "from prettytable import PrettyTable"
      ],
      "execution_count": null,
      "outputs": []
    },
    {
      "cell_type": "markdown",
      "metadata": {
        "id": "s4axqdCJu8pc"
      },
      "source": [
        "# Q1"
      ]
    },
    {
      "cell_type": "markdown",
      "metadata": {
        "id": "1yWJWsfDvQVw"
      },
      "source": [
        "If a force $F\\,(N)$ is applied to compress a spring, its displacement $x\\,(m)$ can often be modeled by Hooke's law $F=k\\,x$\n",
        "where $k$ is the spring constant $(N/m)$. The potential energy stored in the spring $U\\,(J)$ can then be computed as\n",
        "$U={1 \\over 2} k x^2$. Five springs are tested and the following data compiled:\n",
        "\\begin{align*}\n",
        "&F\\,(N) && 18 && 22&& 12&& 13 &&17\\\\\n",
        "&x\\,(m) && 0.013 && 0.020 && 0.009 && 0.010 && 0.012\n",
        "\\end{align*}\n",
        "Use Python to store $F$ and $x$ as vectors and then compute vectors of the spring constants and the potential energies. Use the `max` function of `numpy` to determine the maximum potential energy."
      ]
    },
    {
      "cell_type": "code",
      "metadata": {
        "id": "4zbFKAL2w6Jz",
        "colab": {
          "base_uri": "https://localhost:8080/",
          "height": 34
        },
        "outputId": "6a54b3d4-e1b9-414b-f083-6b804378ea15"
      },
      "source": [
        "f_array = np.array([18, 22, 12, 13, 17]) #placing the force values into an array\n",
        "x_array = np.array([0.013220, .020120, .009130, .010170, .012]) #placing displacement values into an array\n",
        "k_array = f_array / x_array #deriving the spring constant, k\n",
        "u_array = .5 * k_array * (x_array**2) #calculating the potential energy in an array\n",
        "print(np.max(u_array)) #printing using the max function to determine the maximum potential energy\n"
      ],
      "execution_count": null,
      "outputs": [
        {
          "output_type": "stream",
          "text": [
            "0.22132\n"
          ],
          "name": "stdout"
        }
      ]
    },
    {
      "cell_type": "markdown",
      "metadata": {
        "id": "PqJp4N4g0low"
      },
      "source": [
        "# Q2"
      ]
    },
    {
      "cell_type": "markdown",
      "metadata": {
        "id": "u_W6KRne0obd"
      },
      "source": [
        " It is general practice in engineering and science that equations be plotted as lines and discrete data as symbols. The data for concentration $c$ versus time $t$ for the photodegradation of aqueous bromine are given below.\n",
        " \\begin{align*}\n",
        "&t\\,(min) && 10\t && 20  && 30  && 40  && 50  && \\ \\ \\ \\ \\ \\ 60\\\\\n",
        "&c\\,(ppm) && 3.4 && 2.6 && 1.6 && 1.3 && 1.0 && \\ \\ \\ \\ \\ \\ 0.5\n",
        "\\end{align*}\n",
        "\n",
        "These data can be described by the following function: $c=4.8\\,e^{-0.034t}$\n",
        "\n",
        "Use Python to create a plot displaying the data (using diamond-shaped, filled-red symbols) and the function (using a green, dashed line). Plot the function for $t = 0$ to $70$ with increments of $1$ min.\n",
        "\n",
        "1.   Plot the data and the function on the same plot.\n",
        "2.   Plot the data and the function on two seperate horizontal sub-plots.\n",
        "3.   Find the minimum value of the array $c$ that you calculated from the function (use `min`function of `numpy`)."
      ]
    },
    {
      "cell_type": "code",
      "metadata": {
        "id": "GyfIsCI02FK7",
        "colab": {
          "base_uri": "https://localhost:8080/",
          "height": 321
        },
        "outputId": "885cc1c5-207c-4d51-f769-c8bebafe0f69"
      },
      "source": [
        "plt.rcParams.update({'font.size': 10})\n",
        "plt.rcParams['lines.linewidth'] = 1\n",
        "t_array = np.array([10, 20, 30, 40, 50, 60])\n",
        "c_array = np.array([3.4, 2.6, 1.6, 1.3, 1.0, .5])\n",
        "time_array = np.arange(0, 71, 1) #creates an array from 0 minute to 70 minutes in increments of 1\n",
        "function_array = np.array(4.8 * np.exp((-.034) * t_array)) #creates an array for the concentration function\n",
        "function_min = np.min(function_array) #finding the min value in the function_array\n",
        "print(\"The minimum value of the array c from the function: \" + str(function_min)) #printing using the max function to determine the maximum potential energy\n",
        "print(\"Concentration versus time for photodegradation of aqueous bromine: \")\n",
        "\n",
        "plt.subplot(2, 2, 1)\n",
        "plt.scatter(t_array, c_array, color='red', marker='D', label='$discrete data$')\n",
        "plt.plot(t_array, function_array, color='green', linestyle='dashed', label='$function$');\n",
        "plt.xlabel(\"time(min)\")\n",
        "plt.ylabel(\"concentration(ppm)\")\n",
        "plt.legend(loc='best'); \n",
        "\n",
        "plt.subplot(2, 2, 3)\n",
        "plt.scatter(t_array, c_array, color='red',marker = 'D', label='$discrete data$')\n",
        "plt.xlabel(\"time(min)\")\n",
        "plt.ylabel(\"concentration(ppm)\")\n",
        "plt.legend(loc='best'); \n",
        "\n",
        "plt.subplot(2, 2, 4)\n",
        "plt.plot(t_array, function_array, color='green', linestyle='dashed', label='$function$')\n",
        "plt.xlabel(\"time(min)\")\n",
        "plt.ylabel(\"concentration(ppm)\");\n",
        "\n",
        "plt.tight_layout(pad=2); #put additional spacing between the subplots\n",
        "plt.legend(loc='best'); \n",
        "\n"
      ],
      "execution_count": null,
      "outputs": [
        {
          "output_type": "stream",
          "text": [
            "The minimum value of the array c from the function: 0.6241378122164444\n",
            "Concentration versus time for photodegradation of aqueous bromine: \n"
          ],
          "name": "stdout"
        },
        {
          "output_type": "display_data",
          "data": {
            "image/png": "[encoded data removed]",
            "text/plain": [
              "<Figure size 432x288 with 3 Axes>"
            ]
          },
          "metadata": {
            "tags": [],
            "needs_background": "light"
          }
        }
      ]
    },
    {
      "cell_type": "markdown",
      "metadata": {
        "id": "qAbtkzaL6W_C"
      },
      "source": [
        "# Q3 "
      ]
    },
    {
      "cell_type": "markdown",
      "metadata": {
        "id": "vOSiibDa6ZAZ"
      },
      "source": [
        "The Maclaurin series expansion for the cosine is\n",
        "$\n",
        "\\cos(x)=1-{x^2\\over2!}+{x^4\\over4!}-{x^6\\over6!}+{x^8\\over8!}-\\ldots\n",
        "$\n",
        "\n",
        "Use python to create a plot of the cosine (blue solid line) along with a plot of the series expansion (black dashed line) up to and including the term ${x^8\\over8!}$. Use the built-in function `factorial` of `math` package in computing the series expansion. Make the range of the abscissa from $x = 0$ to $3 \\pi /2$. Find $\\cos(1.2 \\pi)$ from the series.\n"
      ]
    },
    {
      "cell_type": "code",
      "metadata": {
        "id": "k17UcGZN9Ezy",
        "colab": {
          "base_uri": "https://localhost:8080/",
          "height": 282
        },
        "outputId": "75e0e8da-9409-496d-d73a-ec575781dcd3"
      },
      "source": [
        "# Q3 answer \n",
        "from math import factorial\n",
        "\n",
        "x_axis = np.linspace(0,((3)*(np.pi)/(2)))\n",
        "y_axis = np.cos(x_axis)\n",
        "array1 = []\n",
        "sign = float(1.0)\n",
        "sum = 0.0\n",
        "\n",
        "for i in range(len(x_axis)):\n",
        "  sum = sum + (sign*(((1.2*math.pi)**i) / math.factorial(i)))\n",
        "  sign = -sign\n",
        "  array1.append(sum)\n",
        "\n",
        "plt.plot(x_axis, array1, color='k', linestyle='dashed', label='$Maclaurin$')\n",
        "plt.plot(x_axis, y_axis, color='blue', linestyle='-', label='$Cosine$');\n",
        "plt.legend(loc='best'); \n",
        "print('cos(1.2pi): ' + str(sum))\n",
        "\n"
      ],
      "execution_count": null,
      "outputs": [
        {
          "output_type": "stream",
          "text": [
            "cos(1.2pi): 0.02305411076310782\n"
          ],
          "name": "stdout"
        },
        {
          "output_type": "display_data",
          "data": {
            "image/png": "[encoded data removed]",
            "text/plain": [
              "<Figure size 432x288 with 1 Axes>"
            ]
          },
          "metadata": {
            "tags": [],
            "needs_background": "light"
          }
        }
      ]
    },
    {
      "cell_type": "markdown",
      "metadata": {
        "id": "DsVOQ3SwBcOw"
      },
      "source": [
        "# Q4"
      ]
    },
    {
      "cell_type": "markdown",
      "metadata": {
        "id": "JTYI4cWBBeto"
      },
      "source": [
        "Develop a function that is passed a numeric grade from 0 to 100 and returns a letter grade according to the scheme\n",
        "\n",
        "\\begin{align*}\n",
        "& Letter\t&& Criteria\\\\\n",
        "& A\t&& 90 \\le numeric\\ grade \\le 100\\\\\n",
        "& B\t&& 80 \\le numeric\\ grade < 90\\\\\n",
        "& C\t&& 70 \\le numeric\\ grade < 80\\\\\n",
        "& D\t&& 60 \\le numeric\\ grade < 70\\\\\n",
        "& F\t&& \\ \\ \\ \\ \\ \\ \\ \\ \\ numeric\\ grade < 60\\\\\n",
        "\\end{align*}\n",
        "\n",
        "The prototype of the function is as follows. Design the function so that it displays an error message and terminates in the event that the user enters a value of score that is less than zero or greater than 100. Test your function with 89.9999, 90, 45, 120 and -10."
      ]
    },
    {
      "cell_type": "code",
      "metadata": {
        "id": "unZ6AXq8G4Cg",
        "colab": {
          "base_uri": "https://localhost:8080/",
          "height": 51
        },
        "outputId": "e8d09002-5c89-4f18-9681-86fce98a6787"
      },
      "source": [
        "def lettergrade(score):\n",
        "  grade = \"\"\n",
        "  if 90 <= score and score <= 100:\n",
        "    grade = 'A'\n",
        "  if 80 <= score and score < 90:\n",
        "    grade = 'B'\n",
        "  if 70 <= score and score < 80:\n",
        "    grade = 'C'\n",
        "  if 60 <= score and score < 70:\n",
        "    grade = 'D'\n",
        "  if 0 <= score and score < 60:\n",
        "    grade = 'F'\n",
        "  if score <= 0 or score >= 100:\n",
        "    grade = 'Error'  \n",
        "  return grade\n",
        "\n",
        "grade = lettergrade(float(input(\"Enter grade: \")))\n",
        "print(grade)"
      ],
      "execution_count": null,
      "outputs": [
        {
          "output_type": "stream",
          "text": [
            "Enter grade: 50\n",
            "F\n"
          ],
          "name": "stdout"
        }
      ]
    },
    {
      "cell_type": "markdown",
      "metadata": {
        "id": "o7qaVFYaMZwZ"
      },
      "source": [
        "# Q5"
      ]
    },
    {
      "cell_type": "markdown",
      "metadata": {
        "id": "s7I9GHhjMbbB"
      },
      "source": [
        "Economic formulas are available to compute annual payments for loans. Suppose that you borrow an amount of money $P$ and agree to repay it in $n$ annual payments at an interest rate of $i$. The formula to compute the annual payment $A$ is \n",
        "\\begin{equation}\n",
        "A=P{i(1+i)^n\\over (1+i)^n-1}\n",
        "\\end{equation}\n",
        "\n",
        "Write a python code to compute $A$. Test it with $P = \\$100,000$ and an interest rate of $3.3\\% (i = 0.033)$. Compute results for $n = 1, 2, 3, 4$, and $5$ and display the results as a table with headings and columns for $n$ and $A$.\n"
      ]
    },
    {
      "cell_type": "code",
      "metadata": {
        "id": "5a-m3PEvM5Op",
        "colab": {
          "base_uri": "https://localhost:8080/",
          "height": 102
        },
        "outputId": "31a84ae3-0e74-4663-8319-ecbb2e1fc95a"
      },
      "source": [
        "P = 100000\n",
        "i = 0.033\n",
        "n_array = np.arange(1, 6)\n",
        "A = P * (((i * (1 + i)**n_array) / (((1 + i)**n_array) - 1)))\n",
        "table = PrettyTable()\n",
        "table.field_names = [\"n\", 1, 2, 3, 4, 5]\n",
        "table.add_row([\"A ($)\", \"{:.2f}\".format(A[0]), \"{:.2f}\".format(A[1]), \"{:.2f}\".format(A[2]),\n",
        "           \"{:.2f}\".format(A[3]), \"{:.2f}\".format(A[4])])\n",
        "print(table)"
      ],
      "execution_count": null,
      "outputs": [
        {
          "output_type": "stream",
          "text": [
            "+-------+-----------+----------+----------+----------+----------+\n",
            "|   n   |     1     |    2     |    3     |    4     |    5     |\n",
            "+-------+-----------+----------+----------+----------+----------+\n",
            "| A ($) | 103300.00 | 52488.39 | 35557.14 | 27095.97 | 22022.84 |\n",
            "+-------+-----------+----------+----------+----------+----------+\n"
          ],
          "name": "stdout"
        }
      ]
    },
    {
      "cell_type": "markdown",
      "metadata": {
        "id": "XsoDwBHwRPIL"
      },
      "source": [
        "# Q6"
      ]
    },
    {
      "cell_type": "markdown",
      "metadata": {
        "id": "JnJgNdE-RQ8w"
      },
      "source": [
        "The \"divide and average\" method, an old-time method for approximating the square root of any positive number $a$, can be formulated as\n",
        "\\begin{equation}\n",
        "x={x+a/x \\over 2}\n",
        "\\end{equation}\n",
        "Write a well-structured python function using the `while` loop structure to implement this algorithm. At each step estimate the approximate error in your approximation as\n",
        "\\begin{equation}\n",
        "\\epsilon= \\left| {x^{new}-x^{old} \\over x^{new}} \\right|\n",
        "\\end{equation}\n",
        "Repeat the loop until $\\epsilon$ is less than or equal to a specified error tolerance. Take $x=a/2$ as the initial value of $x$ to start the `while` loop. Design your program so that it returns the result if $a \\ge 0$ but shows an error message if $ a < 0$. The function should be able to return $0$ when $a=0$. The function should return the approximated root along with the number of iterations it takes to reach the solution and the approximate error.\n",
        "\n",
        "\n",
        "1.   Test your program by evaluating $a = 0, 2, 10$ and $-4$ for the error tolerance of $10^{-2}$.\n",
        "2.   For $a=10$, calculate the true value (i.e., $x_t=\\sqrt{a}$) and the true error $e_t$ in percentage."
      ]
    },
    {
      "cell_type": "code",
      "metadata": {
        "id": "rWqMSfFRN0i6",
        "colab": {
          "base_uri": "https://localhost:8080/",
          "height": 85
        },
        "outputId": "3ac1f3dd-792c-41e7-f255-3f152daf655e"
      },
      "source": [
        "# Q6 answer\n",
        "def squareRoot(a):           \n",
        "  x = a / 2.0   #initial x value\n",
        "  ea = 100      #initial approximate error\n",
        "  iter = 0      #initial number of iterations\n",
        "  \n",
        "  while (ea > 10**(-2)):\n",
        "    if a == 0: \n",
        "      x = 0\n",
        "      ea = 0\n",
        "      return x, iter, ea\n",
        "    if a < 0:\n",
        "      x = \"Error\"\n",
        "      ea = \"Error\"\n",
        "      iter = \"Error\"\n",
        "      return x, iter, ea\n",
        "    else:\n",
        "      x_old = x\n",
        "      x = (x + (a / x)) / 2\n",
        "      ea = abs((x - x_old) / x)\n",
        "      iter = iter + 1\n",
        "  return x,iter,ea\n",
        "\n",
        "b = 10\n",
        "number = squareRoot(b)\n",
        "\n",
        "if number[2] == \"Error\":\n",
        "  print('Approximated root: ' + str(number[0]))\n",
        "  print('Iterations: ' + str(number[1]))\n",
        "  print('Approximated error: Error')\n",
        "elif b == 0:\n",
        "  print('Approximated root: 0')\n",
        "  print('Iterations: 0')\n",
        "  print('Approximated error: 0%')\n",
        "else:\n",
        "  print('Approximated root: ' + str(number[0]))\n",
        "  print('Iterations: ' + str(number[1]))\n",
        "  true_error = (abs(number[0] - math.sqrt(b)) / math.sqrt(b)) * 100\n",
        "  print('Approximated error: ' + str(number[2] * 100) + '%')\n",
        "  print('True Error: ' + str(true_error) + '%')\n",
        "\n"
      ],
      "execution_count": null,
      "outputs": [
        {
          "output_type": "stream",
          "text": [
            "Approximated root: 3.162319422150883\n",
            "Iterations: 3\n",
            "Approximated error: 0.513926781295612%\n",
            "True Error: 0.0013206298431444753%\n"
          ],
          "name": "stdout"
        }
      ]
    }
  ]
}